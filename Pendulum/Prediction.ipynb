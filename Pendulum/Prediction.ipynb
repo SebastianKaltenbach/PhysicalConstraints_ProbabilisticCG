{
 "cells": [
  {
   "cell_type": "code",
   "execution_count": 1,
   "metadata": {},
   "outputs": [],
   "source": [
    "import model as m\n",
    "import tensorflow as tf\n",
    "\n",
    "import numpy as np\n",
    "import matplotlib.pyplot as plt\n",
    "from scipy import optimize\n",
    "from scipy.integrate import odeint"
   ]
  },
  {
   "cell_type": "code",
   "execution_count": 2,
   "metadata": {},
   "outputs": [],
   "source": [
    "#Load training data\n",
    "train_images=np.load('Data_pendulum.npy')\n",
    "train_images = train_images.reshape(train_images.shape[0], 29, 29, train_images.shape[3],1).astype('float32')"
   ]
  },
  {
   "cell_type": "code",
   "execution_count": 3,
   "metadata": {},
   "outputs": [],
   "source": [
    "model = m.MODEL()#Create Model"
   ]
  },
  {
   "cell_type": "code",
   "execution_count": 4,
   "metadata": {},
   "outputs": [
    {
     "data": {
      "text/plain": [
       "<tensorflow.python.training.tracking.util.CheckpointLoadStatus at 0x7fc406cf6c10>"
      ]
     },
     "execution_count": 4,
     "metadata": {},
     "output_type": "execute_result"
    }
   ],
   "source": [
    "# Load trained weights\n",
    "model.load_weights('pendulum_results')"
   ]
  },
  {
   "cell_type": "code",
   "execution_count": 5,
   "metadata": {},
   "outputs": [],
   "source": [
    "# Define function for CG evolution\n",
    "def evolution_lib_pred(z, include_sine=True):\n",
    "    a=np.zeros((1,101))\n",
    "    a[0,0]=1.\n",
    "    for i in range(1,51):\n",
    "        a[0,i]=np.sin(z*i)\n",
    "    for i in range(1,51):\n",
    "        a[0,i+50]=np.cos(z*i)\n",
    "\n",
    "    return a"
   ]
  },
  {
   "cell_type": "code",
   "execution_count": 6,
   "metadata": {},
   "outputs": [],
   "source": [
    "thetaN=model.Theta.numpy()"
   ]
  },
  {
   "cell_type": "code",
   "execution_count": 7,
   "metadata": {},
   "outputs": [],
   "source": [
    "def f(x,v_t,x_t,b):\n",
    "    x_t1,v_t1 =x\n",
    "    return (x_t1-x_t-0.05*v_t1,v_t1-v_t-evolution_lib_pred(x_t)@b)"
   ]
  },
  {
   "cell_type": "code",
   "execution_count": 8,
   "metadata": {},
   "outputs": [
    {
     "name": "stdout",
     "output_type": "stream",
     "text": [
      "WARNING:tensorflow:Layer dense_1 is casting an input tensor from dtype float64 to the layer's dtype of float32, which is new behavior in TensorFlow 2.  The layer has dtype float32 because it's dtype defaults to floatx.\n",
      "\n",
      "If you intended to run this layer in float32, you can safely ignore this warning. If in doubt, this warning is likely only an issue if you are porting a TensorFlow 1.X model to TensorFlow 2.\n",
      "\n",
      "To change all layers to have dtype float64 by default, call `tf.keras.backend.set_floatx('float64')`. To change just this layer, pass dtype='float64' to the layer constructor. If you are the author of this layer, you can disable autocasting by passing autocast=False to the base Layer constructor.\n",
      "\n"
     ]
    }
   ],
   "source": [
    "#Do Predictions using MC\n",
    "z1,t1=model.encode(train_images[1,:,:,:,:].reshape([1,29,29,75,1]))\n",
    "res_mc=np.zeros((20,29,29,1,1000))\n",
    "v_mc=np.zeros((20,1000))\n",
    "x_mc=np.zeros((20,1000))\n",
    "for mc in range(20):\n",
    "    x_t=np.random.normal(z1[0,74],np.exp(0.5*t1[0,74]))\n",
    "    v_t=np.random.normal(z1[0,148],np.exp(0.5*t1[0,148]))\n",
    "    for i in range(1000):\n",
    "        x_t1, v_t1 =  optimize.fsolve(f, (x_t, v_t),args=(v_t,x_t,thetaN))\n",
    "        res_mc[mc,:,:,:,i]=model.decode(tf.reshape(x_t1,[1,1]), apply_sigmoid=True)\n",
    "        v_mc[mc,i]=v_t1\n",
    "        x_mc[mc,i]=x_t1\n",
    "        x_t=x_t1\n",
    "        v_t=v_t1"
   ]
  },
  {
   "cell_type": "code",
   "execution_count": 9,
   "metadata": {},
   "outputs": [],
   "source": [
    "res3=np.mean(res_mc,axis=0)\n",
    "v=np.mean(v_mc,axis=0)\n",
    "x=np.mean(x_mc,axis=0)"
   ]
  },
  {
   "cell_type": "code",
   "execution_count": 10,
   "metadata": {},
   "outputs": [
    {
     "data": {
      "text/plain": [
       "Text(0, 0.5, '$X_2$')"
      ]
     },
     "execution_count": 10,
     "metadata": {},
     "output_type": "execute_result"
    },
    {
     "data": {
      "image/png": "[encoded data removed]",
      "text/plain": [
       "<Figure size 432x288 with 1 Axes>"
      ]
     },
     "metadata": {
      "needs_background": "light"
     },
     "output_type": "display_data"
    }
   ],
   "source": [
    "#Plot predicted Phase space\n",
    "plt.plot(x,v)\n",
    "plt.ylim(-1.0,1.25)\n",
    "plt.xlabel('$X_1$')\n",
    "plt.ylabel('$X_2$')"
   ]
  },
  {
   "cell_type": "code",
   "execution_count": 11,
   "metadata": {},
   "outputs": [],
   "source": [
    "#Load Reference solution\n",
    "x_ref=np.load('Reference_pendulum.npy')"
   ]
  },
  {
   "cell_type": "code",
   "execution_count": 14,
   "metadata": {},
   "outputs": [
    {
     "data": {
      "text/plain": [
       "Text(0.5, 1.0, 'Reference')"
      ]
     },
     "execution_count": 14,
     "metadata": {},
     "output_type": "execute_result"
    },
    {
     "data": {
      "image/png": "[encoded data removed]",
      "text/plain": [
       "<Figure size 864x864 with 2 Axes>"
      ]
     },
     "metadata": {
      "needs_background": "light"
     },
     "output_type": "display_data"
    }
   ],
   "source": [
    "fig = plt.figure(figsize=(12,12))\n",
    "\n",
    "i=250 #Time step i\n",
    "plt.subplot(1, 2, 1)\n",
    "plt.imshow(res3[:,:,0,i], cmap='gray')\n",
    "plt.axis('off')\n",
    "plt.title('Prediction')\n",
    "plt.subplot(1, 2, 2)\n",
    "plt.imshow(x_ref[0, :, :, i+75,0], cmap='gray')\n",
    "plt.axis('off')\n",
    "plt.title('Reference')"
   ]
  },
  {
   "cell_type": "code",
   "execution_count": null,
   "metadata": {},
   "outputs": [],
   "source": []
  }
 ],
 "metadata": {
  "kernelspec": {
   "display_name": "Python 3",
   "language": "python",
   "name": "python3"
  },
  "language_info": {
   "codemirror_mode": {
    "name": "ipython",
    "version": 3
   },
   "file_extension": ".py",
   "mimetype": "text/x-python",
   "name": "python",
   "nbconvert_exporter": "python",
   "pygments_lexer": "ipython3",
   "version": "3.7.6"
  }
 },
 "nbformat": 4,
 "nbformat_minor": 2
}
